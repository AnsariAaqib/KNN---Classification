{
 "cells": [
  {
   "cell_type": "markdown",
   "id": "407f1adb",
   "metadata": {},
   "source": [
    "# Importing Libraries"
   ]
  },
  {
   "cell_type": "code",
   "execution_count": 29,
   "id": "f9fd8d6e",
   "metadata": {},
   "outputs": [],
   "source": [
    "import pandas as pd\n",
    "import numpy as np"
   ]
  },
  {
   "cell_type": "code",
   "execution_count": 28,
   "id": "037358b1",
   "metadata": {},
   "outputs": [],
   "source": [
    "from sklearn.model_selection import train_test_split,cross_val_score"
   ]
  },
  {
   "cell_type": "code",
   "execution_count": 3,
   "id": "d86a389e",
   "metadata": {},
   "outputs": [],
   "source": [
    "from sklearn import neighbors,preprocessing"
   ]
  },
  {
   "cell_type": "code",
   "execution_count": 47,
   "id": "8398aaec",
   "metadata": {},
   "outputs": [],
   "source": [
    "from sklearn.metrics import classification_report,accuracy_score\n",
    "import matplotlib.pyplot as plt"
   ]
  },
  {
   "cell_type": "code",
   "execution_count": 6,
   "id": "91e93a57",
   "metadata": {},
   "outputs": [],
   "source": [
    "path = \"C:/Users/Ansari Aaquib/Downloads/drive-download-20210519T143124Z-001/KNN/wheat.csv\""
   ]
  },
  {
   "cell_type": "markdown",
   "id": "c22d245b",
   "metadata": {},
   "source": [
    "# Read the file"
   ]
  },
  {
   "cell_type": "code",
   "execution_count": 7,
   "id": "8b6f31dd",
   "metadata": {},
   "outputs": [],
   "source": [
    "whey = pd.read_csv(path)"
   ]
  },
  {
   "cell_type": "code",
   "execution_count": 8,
   "id": "42a30a02",
   "metadata": {},
   "outputs": [
    {
     "data": {
      "text/html": [
       "<div>\n",
       "<style scoped>\n",
       "    .dataframe tbody tr th:only-of-type {\n",
       "        vertical-align: middle;\n",
       "    }\n",
       "\n",
       "    .dataframe tbody tr th {\n",
       "        vertical-align: top;\n",
       "    }\n",
       "\n",
       "    .dataframe thead th {\n",
       "        text-align: right;\n",
       "    }\n",
       "</style>\n",
       "<table border=\"1\" class=\"dataframe\">\n",
       "  <thead>\n",
       "    <tr style=\"text-align: right;\">\n",
       "      <th></th>\n",
       "      <th>area</th>\n",
       "      <th>perimeter</th>\n",
       "      <th>compactness</th>\n",
       "      <th>kernel_len</th>\n",
       "      <th>kernel_width</th>\n",
       "      <th>asym_coeff</th>\n",
       "      <th>kernel_groove</th>\n",
       "      <th>type</th>\n",
       "    </tr>\n",
       "  </thead>\n",
       "  <tbody>\n",
       "    <tr>\n",
       "      <th>0</th>\n",
       "      <td>15.26</td>\n",
       "      <td>14.84</td>\n",
       "      <td>0.8710</td>\n",
       "      <td>5.763</td>\n",
       "      <td>3.312</td>\n",
       "      <td>2.221</td>\n",
       "      <td>5.220</td>\n",
       "      <td>1</td>\n",
       "    </tr>\n",
       "    <tr>\n",
       "      <th>1</th>\n",
       "      <td>14.88</td>\n",
       "      <td>14.57</td>\n",
       "      <td>0.8811</td>\n",
       "      <td>5.554</td>\n",
       "      <td>3.333</td>\n",
       "      <td>1.018</td>\n",
       "      <td>4.956</td>\n",
       "      <td>1</td>\n",
       "    </tr>\n",
       "    <tr>\n",
       "      <th>2</th>\n",
       "      <td>14.29</td>\n",
       "      <td>14.09</td>\n",
       "      <td>0.9050</td>\n",
       "      <td>5.291</td>\n",
       "      <td>3.337</td>\n",
       "      <td>2.699</td>\n",
       "      <td>4.825</td>\n",
       "      <td>1</td>\n",
       "    </tr>\n",
       "    <tr>\n",
       "      <th>3</th>\n",
       "      <td>13.84</td>\n",
       "      <td>13.94</td>\n",
       "      <td>0.8955</td>\n",
       "      <td>5.324</td>\n",
       "      <td>3.379</td>\n",
       "      <td>2.259</td>\n",
       "      <td>4.805</td>\n",
       "      <td>1</td>\n",
       "    </tr>\n",
       "    <tr>\n",
       "      <th>4</th>\n",
       "      <td>16.14</td>\n",
       "      <td>14.99</td>\n",
       "      <td>0.9034</td>\n",
       "      <td>5.658</td>\n",
       "      <td>3.562</td>\n",
       "      <td>1.355</td>\n",
       "      <td>5.175</td>\n",
       "      <td>1</td>\n",
       "    </tr>\n",
       "  </tbody>\n",
       "</table>\n",
       "</div>"
      ],
      "text/plain": [
       "    area  perimeter  compactness  kernel_len  kernel_width  asym_coeff  \\\n",
       "0  15.26      14.84       0.8710       5.763         3.312       2.221   \n",
       "1  14.88      14.57       0.8811       5.554         3.333       1.018   \n",
       "2  14.29      14.09       0.9050       5.291         3.337       2.699   \n",
       "3  13.84      13.94       0.8955       5.324         3.379       2.259   \n",
       "4  16.14      14.99       0.9034       5.658         3.562       1.355   \n",
       "\n",
       "   kernel_groove  type  \n",
       "0          5.220     1  \n",
       "1          4.956     1  \n",
       "2          4.825     1  \n",
       "3          4.805     1  \n",
       "4          5.175     1  "
      ]
     },
     "execution_count": 8,
     "metadata": {},
     "output_type": "execute_result"
    }
   ],
   "source": [
    "whey.head()"
   ]
  },
  {
   "cell_type": "code",
   "execution_count": 9,
   "id": "291f5da3",
   "metadata": {},
   "outputs": [
    {
     "data": {
      "text/html": [
       "<div>\n",
       "<style scoped>\n",
       "    .dataframe tbody tr th:only-of-type {\n",
       "        vertical-align: middle;\n",
       "    }\n",
       "\n",
       "    .dataframe tbody tr th {\n",
       "        vertical-align: top;\n",
       "    }\n",
       "\n",
       "    .dataframe thead th {\n",
       "        text-align: right;\n",
       "    }\n",
       "</style>\n",
       "<table border=\"1\" class=\"dataframe\">\n",
       "  <thead>\n",
       "    <tr style=\"text-align: right;\">\n",
       "      <th></th>\n",
       "      <th>area</th>\n",
       "      <th>perimeter</th>\n",
       "      <th>compactness</th>\n",
       "      <th>kernel_len</th>\n",
       "      <th>kernel_width</th>\n",
       "      <th>asym_coeff</th>\n",
       "      <th>kernel_groove</th>\n",
       "      <th>type</th>\n",
       "    </tr>\n",
       "  </thead>\n",
       "  <tbody>\n",
       "    <tr>\n",
       "      <th>205</th>\n",
       "      <td>12.19</td>\n",
       "      <td>13.20</td>\n",
       "      <td>0.8783</td>\n",
       "      <td>5.137</td>\n",
       "      <td>2.981</td>\n",
       "      <td>3.631</td>\n",
       "      <td>4.870</td>\n",
       "      <td>3</td>\n",
       "    </tr>\n",
       "    <tr>\n",
       "      <th>206</th>\n",
       "      <td>11.23</td>\n",
       "      <td>12.88</td>\n",
       "      <td>0.8511</td>\n",
       "      <td>5.140</td>\n",
       "      <td>2.795</td>\n",
       "      <td>4.325</td>\n",
       "      <td>5.003</td>\n",
       "      <td>3</td>\n",
       "    </tr>\n",
       "    <tr>\n",
       "      <th>207</th>\n",
       "      <td>13.20</td>\n",
       "      <td>13.66</td>\n",
       "      <td>0.8883</td>\n",
       "      <td>5.236</td>\n",
       "      <td>3.232</td>\n",
       "      <td>8.315</td>\n",
       "      <td>5.056</td>\n",
       "      <td>3</td>\n",
       "    </tr>\n",
       "    <tr>\n",
       "      <th>208</th>\n",
       "      <td>11.84</td>\n",
       "      <td>13.21</td>\n",
       "      <td>0.8521</td>\n",
       "      <td>5.175</td>\n",
       "      <td>2.836</td>\n",
       "      <td>3.598</td>\n",
       "      <td>5.044</td>\n",
       "      <td>3</td>\n",
       "    </tr>\n",
       "    <tr>\n",
       "      <th>209</th>\n",
       "      <td>12.30</td>\n",
       "      <td>13.34</td>\n",
       "      <td>0.8684</td>\n",
       "      <td>5.243</td>\n",
       "      <td>2.974</td>\n",
       "      <td>5.637</td>\n",
       "      <td>5.063</td>\n",
       "      <td>3</td>\n",
       "    </tr>\n",
       "  </tbody>\n",
       "</table>\n",
       "</div>"
      ],
      "text/plain": [
       "      area  perimeter  compactness  kernel_len  kernel_width  asym_coeff  \\\n",
       "205  12.19      13.20       0.8783       5.137         2.981       3.631   \n",
       "206  11.23      12.88       0.8511       5.140         2.795       4.325   \n",
       "207  13.20      13.66       0.8883       5.236         3.232       8.315   \n",
       "208  11.84      13.21       0.8521       5.175         2.836       3.598   \n",
       "209  12.30      13.34       0.8684       5.243         2.974       5.637   \n",
       "\n",
       "     kernel_groove  type  \n",
       "205          4.870     3  \n",
       "206          5.003     3  \n",
       "207          5.056     3  \n",
       "208          5.044     3  \n",
       "209          5.063     3  "
      ]
     },
     "execution_count": 9,
     "metadata": {},
     "output_type": "execute_result"
    }
   ],
   "source": [
    "whey.tail()"
   ]
  },
  {
   "cell_type": "code",
   "execution_count": 10,
   "id": "e91147a2",
   "metadata": {},
   "outputs": [
    {
     "data": {
      "text/plain": [
       "(210, 8)"
      ]
     },
     "execution_count": 10,
     "metadata": {},
     "output_type": "execute_result"
    }
   ],
   "source": [
    "whey.shape"
   ]
  },
  {
   "cell_type": "code",
   "execution_count": 11,
   "id": "372c26d0",
   "metadata": {},
   "outputs": [
    {
     "data": {
      "text/plain": [
       "1    70\n",
       "2    70\n",
       "3    70\n",
       "Name: type, dtype: int64"
      ]
     },
     "execution_count": 11,
     "metadata": {},
     "output_type": "execute_result"
    }
   ],
   "source": [
    "whey.type.value_counts()"
   ]
  },
  {
   "cell_type": "markdown",
   "id": "0419a6d3",
   "metadata": {},
   "source": [
    "# Standarized the dataset "
   ]
  },
  {
   "cell_type": "markdown",
   "id": "b9ea384f",
   "metadata": {},
   "source": [
    "# make a copy"
   ]
  },
  {
   "cell_type": "code",
   "execution_count": null,
   "id": "e99b4f37",
   "metadata": {},
   "outputs": [],
   "source": [
    "w_std = whey.copy()"
   ]
  },
  {
   "cell_type": "markdown",
   "id": "5c60a345",
   "metadata": {},
   "source": [
    "# use z-score and minmax transformation"
   ]
  },
  {
   "cell_type": "code",
   "execution_count": 17,
   "id": "91251005",
   "metadata": {},
   "outputs": [],
   "source": [
    "minmax = preprocessing.MinMaxScaler()"
   ]
  },
  {
   "cell_type": "code",
   "execution_count": 18,
   "id": "7b6af554",
   "metadata": {},
   "outputs": [],
   "source": [
    "sv = minmax.fit_transform(w_std.iloc[:,:])"
   ]
  },
  {
   "cell_type": "code",
   "execution_count": 19,
   "id": "7c448de3",
   "metadata": {},
   "outputs": [],
   "source": [
    "w_std.iloc[:,:] = sv"
   ]
  },
  {
   "cell_type": "code",
   "execution_count": 20,
   "id": "6a252d8c",
   "metadata": {},
   "outputs": [
    {
     "data": {
      "text/html": [
       "<div>\n",
       "<style scoped>\n",
       "    .dataframe tbody tr th:only-of-type {\n",
       "        vertical-align: middle;\n",
       "    }\n",
       "\n",
       "    .dataframe tbody tr th {\n",
       "        vertical-align: top;\n",
       "    }\n",
       "\n",
       "    .dataframe thead th {\n",
       "        text-align: right;\n",
       "    }\n",
       "</style>\n",
       "<table border=\"1\" class=\"dataframe\">\n",
       "  <thead>\n",
       "    <tr style=\"text-align: right;\">\n",
       "      <th></th>\n",
       "      <th>area</th>\n",
       "      <th>perimeter</th>\n",
       "      <th>compactness</th>\n",
       "      <th>kernel_len</th>\n",
       "      <th>kernel_width</th>\n",
       "      <th>asym_coeff</th>\n",
       "      <th>kernel_groove</th>\n",
       "      <th>type</th>\n",
       "    </tr>\n",
       "  </thead>\n",
       "  <tbody>\n",
       "    <tr>\n",
       "      <th>0</th>\n",
       "      <td>0.440982</td>\n",
       "      <td>0.502066</td>\n",
       "      <td>0.570780</td>\n",
       "      <td>0.486486</td>\n",
       "      <td>0.486101</td>\n",
       "      <td>0.189302</td>\n",
       "      <td>0.345150</td>\n",
       "      <td>0.0</td>\n",
       "    </tr>\n",
       "    <tr>\n",
       "      <th>1</th>\n",
       "      <td>0.405099</td>\n",
       "      <td>0.446281</td>\n",
       "      <td>0.662432</td>\n",
       "      <td>0.368806</td>\n",
       "      <td>0.501069</td>\n",
       "      <td>0.032883</td>\n",
       "      <td>0.215165</td>\n",
       "      <td>0.0</td>\n",
       "    </tr>\n",
       "    <tr>\n",
       "      <th>2</th>\n",
       "      <td>0.349386</td>\n",
       "      <td>0.347107</td>\n",
       "      <td>0.879310</td>\n",
       "      <td>0.220721</td>\n",
       "      <td>0.503920</td>\n",
       "      <td>0.251453</td>\n",
       "      <td>0.150665</td>\n",
       "      <td>0.0</td>\n",
       "    </tr>\n",
       "    <tr>\n",
       "      <th>3</th>\n",
       "      <td>0.306893</td>\n",
       "      <td>0.316116</td>\n",
       "      <td>0.793103</td>\n",
       "      <td>0.239302</td>\n",
       "      <td>0.533856</td>\n",
       "      <td>0.194243</td>\n",
       "      <td>0.140817</td>\n",
       "      <td>0.0</td>\n",
       "    </tr>\n",
       "    <tr>\n",
       "      <th>4</th>\n",
       "      <td>0.524079</td>\n",
       "      <td>0.533058</td>\n",
       "      <td>0.864791</td>\n",
       "      <td>0.427365</td>\n",
       "      <td>0.664291</td>\n",
       "      <td>0.076701</td>\n",
       "      <td>0.322994</td>\n",
       "      <td>0.0</td>\n",
       "    </tr>\n",
       "  </tbody>\n",
       "</table>\n",
       "</div>"
      ],
      "text/plain": [
       "       area  perimeter  compactness  kernel_len  kernel_width  asym_coeff  \\\n",
       "0  0.440982   0.502066     0.570780    0.486486      0.486101    0.189302   \n",
       "1  0.405099   0.446281     0.662432    0.368806      0.501069    0.032883   \n",
       "2  0.349386   0.347107     0.879310    0.220721      0.503920    0.251453   \n",
       "3  0.306893   0.316116     0.793103    0.239302      0.533856    0.194243   \n",
       "4  0.524079   0.533058     0.864791    0.427365      0.664291    0.076701   \n",
       "\n",
       "   kernel_groove  type  \n",
       "0       0.345150   0.0  \n",
       "1       0.215165   0.0  \n",
       "2       0.150665   0.0  \n",
       "3       0.140817   0.0  \n",
       "4       0.322994   0.0  "
      ]
     },
     "execution_count": 20,
     "metadata": {},
     "output_type": "execute_result"
    }
   ],
   "source": [
    "w_std.head()"
   ]
  },
  {
   "cell_type": "code",
   "execution_count": 21,
   "id": "49efe8d0",
   "metadata": {},
   "outputs": [
    {
     "data": {
      "text/html": [
       "<div>\n",
       "<style scoped>\n",
       "    .dataframe tbody tr th:only-of-type {\n",
       "        vertical-align: middle;\n",
       "    }\n",
       "\n",
       "    .dataframe tbody tr th {\n",
       "        vertical-align: top;\n",
       "    }\n",
       "\n",
       "    .dataframe thead th {\n",
       "        text-align: right;\n",
       "    }\n",
       "</style>\n",
       "<table border=\"1\" class=\"dataframe\">\n",
       "  <thead>\n",
       "    <tr style=\"text-align: right;\">\n",
       "      <th></th>\n",
       "      <th>area</th>\n",
       "      <th>perimeter</th>\n",
       "      <th>compactness</th>\n",
       "      <th>kernel_len</th>\n",
       "      <th>kernel_width</th>\n",
       "      <th>asym_coeff</th>\n",
       "      <th>kernel_groove</th>\n",
       "      <th>type</th>\n",
       "    </tr>\n",
       "  </thead>\n",
       "  <tbody>\n",
       "    <tr>\n",
       "      <th>0</th>\n",
       "      <td>15.26</td>\n",
       "      <td>14.84</td>\n",
       "      <td>0.8710</td>\n",
       "      <td>5.763</td>\n",
       "      <td>3.312</td>\n",
       "      <td>2.221</td>\n",
       "      <td>5.220</td>\n",
       "      <td>1</td>\n",
       "    </tr>\n",
       "    <tr>\n",
       "      <th>1</th>\n",
       "      <td>14.88</td>\n",
       "      <td>14.57</td>\n",
       "      <td>0.8811</td>\n",
       "      <td>5.554</td>\n",
       "      <td>3.333</td>\n",
       "      <td>1.018</td>\n",
       "      <td>4.956</td>\n",
       "      <td>1</td>\n",
       "    </tr>\n",
       "    <tr>\n",
       "      <th>2</th>\n",
       "      <td>14.29</td>\n",
       "      <td>14.09</td>\n",
       "      <td>0.9050</td>\n",
       "      <td>5.291</td>\n",
       "      <td>3.337</td>\n",
       "      <td>2.699</td>\n",
       "      <td>4.825</td>\n",
       "      <td>1</td>\n",
       "    </tr>\n",
       "    <tr>\n",
       "      <th>3</th>\n",
       "      <td>13.84</td>\n",
       "      <td>13.94</td>\n",
       "      <td>0.8955</td>\n",
       "      <td>5.324</td>\n",
       "      <td>3.379</td>\n",
       "      <td>2.259</td>\n",
       "      <td>4.805</td>\n",
       "      <td>1</td>\n",
       "    </tr>\n",
       "    <tr>\n",
       "      <th>4</th>\n",
       "      <td>16.14</td>\n",
       "      <td>14.99</td>\n",
       "      <td>0.9034</td>\n",
       "      <td>5.658</td>\n",
       "      <td>3.562</td>\n",
       "      <td>1.355</td>\n",
       "      <td>5.175</td>\n",
       "      <td>1</td>\n",
       "    </tr>\n",
       "  </tbody>\n",
       "</table>\n",
       "</div>"
      ],
      "text/plain": [
       "    area  perimeter  compactness  kernel_len  kernel_width  asym_coeff  \\\n",
       "0  15.26      14.84       0.8710       5.763         3.312       2.221   \n",
       "1  14.88      14.57       0.8811       5.554         3.333       1.018   \n",
       "2  14.29      14.09       0.9050       5.291         3.337       2.699   \n",
       "3  13.84      13.94       0.8955       5.324         3.379       2.259   \n",
       "4  16.14      14.99       0.9034       5.658         3.562       1.355   \n",
       "\n",
       "   kernel_groove  type  \n",
       "0          5.220     1  \n",
       "1          4.956     1  \n",
       "2          4.825     1  \n",
       "3          4.805     1  \n",
       "4          5.175     1  "
      ]
     },
     "execution_count": 21,
     "metadata": {},
     "output_type": "execute_result"
    }
   ],
   "source": [
    "whey.head()"
   ]
  },
  {
   "cell_type": "markdown",
   "id": "8252190f",
   "metadata": {},
   "source": [
    "# replace the y-variable with actual value"
   ]
  },
  {
   "cell_type": "code",
   "execution_count": 22,
   "id": "26501a60",
   "metadata": {},
   "outputs": [],
   "source": [
    "w_std.type = whey.type"
   ]
  },
  {
   "cell_type": "markdown",
   "id": "beb541fa",
   "metadata": {},
   "source": [
    "# Shuffle the dataset"
   ]
  },
  {
   "cell_type": "code",
   "execution_count": 23,
   "id": "a1227917",
   "metadata": {},
   "outputs": [],
   "source": [
    "w_std = w_std.sample(frac=1)"
   ]
  },
  {
   "cell_type": "code",
   "execution_count": 24,
   "id": "2cb7b99b",
   "metadata": {},
   "outputs": [
    {
     "data": {
      "text/html": [
       "<div>\n",
       "<style scoped>\n",
       "    .dataframe tbody tr th:only-of-type {\n",
       "        vertical-align: middle;\n",
       "    }\n",
       "\n",
       "    .dataframe tbody tr th {\n",
       "        vertical-align: top;\n",
       "    }\n",
       "\n",
       "    .dataframe thead th {\n",
       "        text-align: right;\n",
       "    }\n",
       "</style>\n",
       "<table border=\"1\" class=\"dataframe\">\n",
       "  <thead>\n",
       "    <tr style=\"text-align: right;\">\n",
       "      <th></th>\n",
       "      <th>area</th>\n",
       "      <th>perimeter</th>\n",
       "      <th>compactness</th>\n",
       "      <th>kernel_len</th>\n",
       "      <th>kernel_width</th>\n",
       "      <th>asym_coeff</th>\n",
       "      <th>kernel_groove</th>\n",
       "      <th>type</th>\n",
       "    </tr>\n",
       "  </thead>\n",
       "  <tbody>\n",
       "    <tr>\n",
       "      <th>149</th>\n",
       "      <td>0.018886</td>\n",
       "      <td>0.107438</td>\n",
       "      <td>0.023593</td>\n",
       "      <td>0.235360</td>\n",
       "      <td>0.012830</td>\n",
       "      <td>0.610709</td>\n",
       "      <td>0.332349</td>\n",
       "      <td>3</td>\n",
       "    </tr>\n",
       "    <tr>\n",
       "      <th>107</th>\n",
       "      <td>0.664778</td>\n",
       "      <td>0.712810</td>\n",
       "      <td>0.652450</td>\n",
       "      <td>0.638514</td>\n",
       "      <td>0.672131</td>\n",
       "      <td>0.387718</td>\n",
       "      <td>0.694239</td>\n",
       "      <td>2</td>\n",
       "    </tr>\n",
       "    <tr>\n",
       "      <th>24</th>\n",
       "      <td>0.417375</td>\n",
       "      <td>0.485537</td>\n",
       "      <td>0.522686</td>\n",
       "      <td>0.501126</td>\n",
       "      <td>0.438346</td>\n",
       "      <td>0.133391</td>\n",
       "      <td>0.237322</td>\n",
       "      <td>1</td>\n",
       "    </tr>\n",
       "    <tr>\n",
       "      <th>26</th>\n",
       "      <td>0.229462</td>\n",
       "      <td>0.278926</td>\n",
       "      <td>0.508167</td>\n",
       "      <td>0.279279</td>\n",
       "      <td>0.282252</td>\n",
       "      <td>0.339089</td>\n",
       "      <td>0.150665</td>\n",
       "      <td>1</td>\n",
       "    </tr>\n",
       "    <tr>\n",
       "      <th>172</th>\n",
       "      <td>0.064212</td>\n",
       "      <td>0.115702</td>\n",
       "      <td>0.306715</td>\n",
       "      <td>0.106419</td>\n",
       "      <td>0.094797</td>\n",
       "      <td>0.460791</td>\n",
       "      <td>0.236829</td>\n",
       "      <td>3</td>\n",
       "    </tr>\n",
       "    <tr>\n",
       "      <th>148</th>\n",
       "      <td>0.199245</td>\n",
       "      <td>0.268595</td>\n",
       "      <td>0.372051</td>\n",
       "      <td>0.274212</td>\n",
       "      <td>0.200285</td>\n",
       "      <td>0.324396</td>\n",
       "      <td>0.392418</td>\n",
       "      <td>3</td>\n",
       "    </tr>\n",
       "    <tr>\n",
       "      <th>140</th>\n",
       "      <td>0.234183</td>\n",
       "      <td>0.311983</td>\n",
       "      <td>0.362069</td>\n",
       "      <td>0.322635</td>\n",
       "      <td>0.259444</td>\n",
       "      <td>0.590165</td>\n",
       "      <td>0.431315</td>\n",
       "      <td>3</td>\n",
       "    </tr>\n",
       "    <tr>\n",
       "      <th>124</th>\n",
       "      <td>0.509915</td>\n",
       "      <td>0.512397</td>\n",
       "      <td>0.892015</td>\n",
       "      <td>0.261261</td>\n",
       "      <td>0.678546</td>\n",
       "      <td>0.334278</td>\n",
       "      <td>0.307730</td>\n",
       "      <td>2</td>\n",
       "    </tr>\n",
       "    <tr>\n",
       "      <th>64</th>\n",
       "      <td>0.206799</td>\n",
       "      <td>0.239669</td>\n",
       "      <td>0.576225</td>\n",
       "      <td>0.204392</td>\n",
       "      <td>0.282252</td>\n",
       "      <td>0.053427</td>\n",
       "      <td>0.129493</td>\n",
       "      <td>1</td>\n",
       "    </tr>\n",
       "    <tr>\n",
       "      <th>119</th>\n",
       "      <td>0.891407</td>\n",
       "      <td>0.927686</td>\n",
       "      <td>0.662432</td>\n",
       "      <td>0.897523</td>\n",
       "      <td>0.874555</td>\n",
       "      <td>0.298782</td>\n",
       "      <td>0.886755</td>\n",
       "      <td>2</td>\n",
       "    </tr>\n",
       "    <tr>\n",
       "      <th>196</th>\n",
       "      <td>0.207743</td>\n",
       "      <td>0.231405</td>\n",
       "      <td>0.639746</td>\n",
       "      <td>0.182995</td>\n",
       "      <td>0.302210</td>\n",
       "      <td>0.613439</td>\n",
       "      <td>0.216150</td>\n",
       "      <td>3</td>\n",
       "    </tr>\n",
       "    <tr>\n",
       "      <th>135</th>\n",
       "      <td>0.452314</td>\n",
       "      <td>0.464876</td>\n",
       "      <td>0.824864</td>\n",
       "      <td>0.325450</td>\n",
       "      <td>0.595153</td>\n",
       "      <td>0.368604</td>\n",
       "      <td>0.452979</td>\n",
       "      <td>2</td>\n",
       "    </tr>\n",
       "    <tr>\n",
       "      <th>81</th>\n",
       "      <td>0.767705</td>\n",
       "      <td>0.780992</td>\n",
       "      <td>0.813067</td>\n",
       "      <td>0.623311</td>\n",
       "      <td>0.874555</td>\n",
       "      <td>0.592765</td>\n",
       "      <td>0.669621</td>\n",
       "      <td>2</td>\n",
       "    </tr>\n",
       "    <tr>\n",
       "      <th>40</th>\n",
       "      <td>0.278565</td>\n",
       "      <td>0.297521</td>\n",
       "      <td>0.716878</td>\n",
       "      <td>0.252815</td>\n",
       "      <td>0.374911</td>\n",
       "      <td>0.236890</td>\n",
       "      <td>0.324471</td>\n",
       "      <td>1</td>\n",
       "    </tr>\n",
       "    <tr>\n",
       "      <th>171</th>\n",
       "      <td>0.090652</td>\n",
       "      <td>0.142562</td>\n",
       "      <td>0.339383</td>\n",
       "      <td>0.150901</td>\n",
       "      <td>0.153243</td>\n",
       "      <td>0.773629</td>\n",
       "      <td>0.215165</td>\n",
       "      <td>3</td>\n",
       "    </tr>\n",
       "    <tr>\n",
       "      <th>206</th>\n",
       "      <td>0.060434</td>\n",
       "      <td>0.097107</td>\n",
       "      <td>0.390200</td>\n",
       "      <td>0.135698</td>\n",
       "      <td>0.117605</td>\n",
       "      <td>0.462872</td>\n",
       "      <td>0.238306</td>\n",
       "      <td>3</td>\n",
       "    </tr>\n",
       "    <tr>\n",
       "      <th>159</th>\n",
       "      <td>0.084986</td>\n",
       "      <td>0.167355</td>\n",
       "      <td>0.165154</td>\n",
       "      <td>0.228041</td>\n",
       "      <td>0.046329</td>\n",
       "      <td>0.601087</td>\n",
       "      <td>0.389463</td>\n",
       "      <td>3</td>\n",
       "    </tr>\n",
       "    <tr>\n",
       "      <th>177</th>\n",
       "      <td>0.014164</td>\n",
       "      <td>0.066116</td>\n",
       "      <td>0.225045</td>\n",
       "      <td>0.138514</td>\n",
       "      <td>0.008553</td>\n",
       "      <td>0.511891</td>\n",
       "      <td>0.218612</td>\n",
       "      <td>3</td>\n",
       "    </tr>\n",
       "    <tr>\n",
       "      <th>208</th>\n",
       "      <td>0.118036</td>\n",
       "      <td>0.165289</td>\n",
       "      <td>0.399274</td>\n",
       "      <td>0.155405</td>\n",
       "      <td>0.146828</td>\n",
       "      <td>0.368344</td>\n",
       "      <td>0.258493</td>\n",
       "      <td>3</td>\n",
       "    </tr>\n",
       "    <tr>\n",
       "      <th>116</th>\n",
       "      <td>0.790368</td>\n",
       "      <td>0.783058</td>\n",
       "      <td>0.903811</td>\n",
       "      <td>0.648649</td>\n",
       "      <td>0.903065</td>\n",
       "      <td>0.464042</td>\n",
       "      <td>0.606105</td>\n",
       "      <td>2</td>\n",
       "    </tr>\n",
       "  </tbody>\n",
       "</table>\n",
       "</div>"
      ],
      "text/plain": [
       "         area  perimeter  compactness  kernel_len  kernel_width  asym_coeff  \\\n",
       "149  0.018886   0.107438     0.023593    0.235360      0.012830    0.610709   \n",
       "107  0.664778   0.712810     0.652450    0.638514      0.672131    0.387718   \n",
       "24   0.417375   0.485537     0.522686    0.501126      0.438346    0.133391   \n",
       "26   0.229462   0.278926     0.508167    0.279279      0.282252    0.339089   \n",
       "172  0.064212   0.115702     0.306715    0.106419      0.094797    0.460791   \n",
       "148  0.199245   0.268595     0.372051    0.274212      0.200285    0.324396   \n",
       "140  0.234183   0.311983     0.362069    0.322635      0.259444    0.590165   \n",
       "124  0.509915   0.512397     0.892015    0.261261      0.678546    0.334278   \n",
       "64   0.206799   0.239669     0.576225    0.204392      0.282252    0.053427   \n",
       "119  0.891407   0.927686     0.662432    0.897523      0.874555    0.298782   \n",
       "196  0.207743   0.231405     0.639746    0.182995      0.302210    0.613439   \n",
       "135  0.452314   0.464876     0.824864    0.325450      0.595153    0.368604   \n",
       "81   0.767705   0.780992     0.813067    0.623311      0.874555    0.592765   \n",
       "40   0.278565   0.297521     0.716878    0.252815      0.374911    0.236890   \n",
       "171  0.090652   0.142562     0.339383    0.150901      0.153243    0.773629   \n",
       "206  0.060434   0.097107     0.390200    0.135698      0.117605    0.462872   \n",
       "159  0.084986   0.167355     0.165154    0.228041      0.046329    0.601087   \n",
       "177  0.014164   0.066116     0.225045    0.138514      0.008553    0.511891   \n",
       "208  0.118036   0.165289     0.399274    0.155405      0.146828    0.368344   \n",
       "116  0.790368   0.783058     0.903811    0.648649      0.903065    0.464042   \n",
       "\n",
       "     kernel_groove  type  \n",
       "149       0.332349     3  \n",
       "107       0.694239     2  \n",
       "24        0.237322     1  \n",
       "26        0.150665     1  \n",
       "172       0.236829     3  \n",
       "148       0.392418     3  \n",
       "140       0.431315     3  \n",
       "124       0.307730     2  \n",
       "64        0.129493     1  \n",
       "119       0.886755     2  \n",
       "196       0.216150     3  \n",
       "135       0.452979     2  \n",
       "81        0.669621     2  \n",
       "40        0.324471     1  \n",
       "171       0.215165     3  \n",
       "206       0.238306     3  \n",
       "159       0.389463     3  \n",
       "177       0.218612     3  \n",
       "208       0.258493     3  \n",
       "116       0.606105     2  "
      ]
     },
     "execution_count": 24,
     "metadata": {},
     "output_type": "execute_result"
    }
   ],
   "source": [
    "w_std.head(20)"
   ]
  },
  {
   "cell_type": "markdown",
   "id": "1426054c",
   "metadata": {},
   "source": [
    "# Split the data into train and test"
   ]
  },
  {
   "cell_type": "code",
   "execution_count": 25,
   "id": "8c5b3b86",
   "metadata": {},
   "outputs": [],
   "source": [
    "trainx,testx,trainy,testy = train_test_split(w_std.drop('type',1),w_std.type,test_size=0.2)"
   ]
  },
  {
   "cell_type": "code",
   "execution_count": 26,
   "id": "eb7718f9",
   "metadata": {},
   "outputs": [
    {
     "data": {
      "text/plain": [
       "((168, 7), (168,))"
      ]
     },
     "execution_count": 26,
     "metadata": {},
     "output_type": "execute_result"
    }
   ],
   "source": [
    "trainx.shape,trainy.shape"
   ]
  },
  {
   "cell_type": "code",
   "execution_count": 27,
   "id": "c9aac808",
   "metadata": {},
   "outputs": [
    {
     "data": {
      "text/plain": [
       "((42, 7), (42,))"
      ]
     },
     "execution_count": 27,
     "metadata": {},
     "output_type": "execute_result"
    }
   ],
   "source": [
    "testx.shape,testy.shape"
   ]
  },
  {
   "cell_type": "markdown",
   "id": "c32c62c6",
   "metadata": {},
   "source": [
    "# Perform cross-validation to get the best k value"
   ]
  },
  {
   "cell_type": "code",
   "execution_count": 30,
   "id": "b702bcbd",
   "metadata": {},
   "outputs": [],
   "source": [
    "n_list = np.arange(3,12,2)"
   ]
  },
  {
   "cell_type": "code",
   "execution_count": 31,
   "id": "dba7bee4",
   "metadata": {},
   "outputs": [
    {
     "name": "stdout",
     "output_type": "stream",
     "text": [
      "[ 3  5  7  9 11]\n"
     ]
    }
   ],
   "source": [
    "print(n_list)"
   ]
  },
  {
   "cell_type": "markdown",
   "id": "169293ff",
   "metadata": {},
   "source": [
    "# store the accuracy of model for each k value"
   ]
  },
  {
   "cell_type": "code",
   "execution_count": 32,
   "id": "2624e7a2",
   "metadata": {},
   "outputs": [],
   "source": [
    "cv_acc = []\n",
    "for k in n_list:\n",
    "    model = neighbors.KNeighborsClassifier(n_neighbors=k)\n",
    "    acc = cross_val_score(model,trainx,trainy,cv=5,scoring='accuracy')\n",
    "    acc = np.round(np.mean(acc),3)\n",
    "    cv_acc.append(acc)"
   ]
  },
  {
   "cell_type": "code",
   "execution_count": 33,
   "id": "fa0d75a3",
   "metadata": {},
   "outputs": [
    {
     "name": "stdout",
     "output_type": "stream",
     "text": [
      "[0.929, 0.923, 0.911, 0.916, 0.905]\n"
     ]
    }
   ],
   "source": [
    "print(cv_acc)"
   ]
  },
  {
   "cell_type": "markdown",
   "id": "e60460d0",
   "metadata": {},
   "source": [
    "# select the best k"
   ]
  },
  {
   "cell_type": "code",
   "execution_count": 34,
   "id": "943c0871",
   "metadata": {},
   "outputs": [
    {
     "data": {
      "text/plain": [
       "0.929"
      ]
     },
     "execution_count": 34,
     "metadata": {},
     "output_type": "execute_result"
    }
   ],
   "source": [
    "max(cv_acc)"
   ]
  },
  {
   "cell_type": "code",
   "execution_count": 41,
   "id": "776627e6",
   "metadata": {},
   "outputs": [],
   "source": [
    "optk = n_list[cv_acc.index(max(cv_acc))]"
   ]
  },
  {
   "cell_type": "code",
   "execution_count": 42,
   "id": "015da4be",
   "metadata": {},
   "outputs": [
    {
     "name": "stdout",
     "output_type": "stream",
     "text": [
      "best k value =  3\n"
     ]
    }
   ],
   "source": [
    "print('best k value = ', optk)"
   ]
  },
  {
   "cell_type": "markdown",
   "id": "1148e9c3",
   "metadata": {},
   "source": [
    "# plot the accuracy - neighbours"
   ]
  },
  {
   "cell_type": "code",
   "execution_count": 40,
   "id": "c15f19d8",
   "metadata": {},
   "outputs": [
    {
     "data": {
      "text/plain": [
       "Text(0.5, 1.0, 'Selection of optimal k for KNN')"
      ]
     },
     "execution_count": 40,
     "metadata": {},
     "output_type": "execute_result"
    },
    {
     "data": {
      "image/png": "[encoded data removed]",
      "text/plain": [
       "<Figure size 432x288 with 1 Axes>"
      ]
     },
     "metadata": {
      "needs_background": "light"
     },
     "output_type": "display_data"
    }
   ],
   "source": [
    "plt.plot(n_list,cv_acc,color='red')\n",
    "plt.xlabel('Neighbours')\n",
    "plt.ylabel('Accuracy')\n",
    "plt.title('Selection of optimal k for KNN')"
   ]
  },
  {
   "cell_type": "markdown",
   "id": "929430d3",
   "metadata": {},
   "source": [
    "# Build the KNN model and predict"
   ]
  },
  {
   "cell_type": "code",
   "execution_count": 44,
   "id": "f4ed9375",
   "metadata": {},
   "outputs": [],
   "source": [
    "m1 = neighbors.KNeighborsClassifier(n_neighbors=optk).fit(trainx,trainy)"
   ]
  },
  {
   "cell_type": "code",
   "execution_count": 45,
   "id": "56833db7",
   "metadata": {},
   "outputs": [],
   "source": [
    "p1 = m1.predict(testx)"
   ]
  },
  {
   "cell_type": "markdown",
   "id": "505683dd",
   "metadata": {},
   "source": [
    "# model accuracy"
   ]
  },
  {
   "cell_type": "code",
   "execution_count": 48,
   "id": "296b143c",
   "metadata": {},
   "outputs": [
    {
     "name": "stdout",
     "output_type": "stream",
     "text": [
      "Accuracy 0.9523809523809523\n"
     ]
    }
   ],
   "source": [
    "print('Accuracy', accuracy_score(testy,p1))"
   ]
  },
  {
   "cell_type": "markdown",
   "id": "081ea6d4",
   "metadata": {},
   "source": [
    "# Confusion matrix and classification report"
   ]
  },
  {
   "cell_type": "code",
   "execution_count": 49,
   "id": "7e6c933d",
   "metadata": {},
   "outputs": [
    {
     "name": "stdout",
     "output_type": "stream",
     "text": [
      "              precision    recall  f1-score   support\n",
      "\n",
      "           1       0.93      0.93      0.93        14\n",
      "           2       1.00      0.93      0.96        14\n",
      "           3       0.93      1.00      0.97        14\n",
      "\n",
      "    accuracy                           0.95        42\n",
      "   macro avg       0.95      0.95      0.95        42\n",
      "weighted avg       0.95      0.95      0.95        42\n",
      "\n"
     ]
    }
   ],
   "source": [
    "df1 = pd.DataFrame({'actual':testy,'predicted':p1})\n",
    "pd.crosstab(df1.actual,df1.predicted,margins=True)\n",
    "print(classification_report(df1.actual,df1.predicted))"
   ]
  },
  {
   "cell_type": "code",
   "execution_count": 75,
   "id": "4d693fbe",
   "metadata": {},
   "outputs": [
    {
     "data": {
      "text/html": [
       "<div>\n",
       "<style scoped>\n",
       "    .dataframe tbody tr th:only-of-type {\n",
       "        vertical-align: middle;\n",
       "    }\n",
       "\n",
       "    .dataframe tbody tr th {\n",
       "        vertical-align: top;\n",
       "    }\n",
       "\n",
       "    .dataframe thead th {\n",
       "        text-align: right;\n",
       "    }\n",
       "</style>\n",
       "<table border=\"1\" class=\"dataframe\">\n",
       "  <thead>\n",
       "    <tr style=\"text-align: right;\">\n",
       "      <th></th>\n",
       "      <th>area</th>\n",
       "      <th>perimeter</th>\n",
       "      <th>compactness</th>\n",
       "      <th>kernel_len</th>\n",
       "      <th>kernel_width</th>\n",
       "      <th>asym_coeff</th>\n",
       "      <th>kernel_groove</th>\n",
       "      <th>type</th>\n",
       "    </tr>\n",
       "  </thead>\n",
       "  <tbody>\n",
       "    <tr>\n",
       "      <th>83</th>\n",
       "      <td>19.57</td>\n",
       "      <td>16.74</td>\n",
       "      <td>0.8779</td>\n",
       "      <td>6.384</td>\n",
       "      <td>3.772</td>\n",
       "      <td>1.472</td>\n",
       "      <td>6.273</td>\n",
       "      <td>2</td>\n",
       "    </tr>\n",
       "    <tr>\n",
       "      <th>159</th>\n",
       "      <td>11.49</td>\n",
       "      <td>13.22</td>\n",
       "      <td>0.8263</td>\n",
       "      <td>5.304</td>\n",
       "      <td>2.695</td>\n",
       "      <td>5.388</td>\n",
       "      <td>5.310</td>\n",
       "      <td>3</td>\n",
       "    </tr>\n",
       "    <tr>\n",
       "      <th>37</th>\n",
       "      <td>17.08</td>\n",
       "      <td>15.38</td>\n",
       "      <td>0.9079</td>\n",
       "      <td>5.832</td>\n",
       "      <td>3.683</td>\n",
       "      <td>2.956</td>\n",
       "      <td>5.484</td>\n",
       "      <td>1</td>\n",
       "    </tr>\n",
       "    <tr>\n",
       "      <th>199</th>\n",
       "      <td>12.76</td>\n",
       "      <td>13.38</td>\n",
       "      <td>0.8964</td>\n",
       "      <td>5.073</td>\n",
       "      <td>3.155</td>\n",
       "      <td>2.828</td>\n",
       "      <td>4.830</td>\n",
       "      <td>3</td>\n",
       "    </tr>\n",
       "    <tr>\n",
       "      <th>69</th>\n",
       "      <td>12.73</td>\n",
       "      <td>13.75</td>\n",
       "      <td>0.8458</td>\n",
       "      <td>5.412</td>\n",
       "      <td>2.882</td>\n",
       "      <td>3.533</td>\n",
       "      <td>5.067</td>\n",
       "      <td>1</td>\n",
       "    </tr>\n",
       "    <tr>\n",
       "      <th>90</th>\n",
       "      <td>20.10</td>\n",
       "      <td>16.99</td>\n",
       "      <td>0.8746</td>\n",
       "      <td>6.581</td>\n",
       "      <td>3.785</td>\n",
       "      <td>1.955</td>\n",
       "      <td>6.449</td>\n",
       "      <td>2</td>\n",
       "    </tr>\n",
       "    <tr>\n",
       "      <th>119</th>\n",
       "      <td>20.03</td>\n",
       "      <td>16.90</td>\n",
       "      <td>0.8811</td>\n",
       "      <td>6.493</td>\n",
       "      <td>3.857</td>\n",
       "      <td>3.063</td>\n",
       "      <td>6.320</td>\n",
       "      <td>2</td>\n",
       "    </tr>\n",
       "    <tr>\n",
       "      <th>165</th>\n",
       "      <td>12.10</td>\n",
       "      <td>13.15</td>\n",
       "      <td>0.8793</td>\n",
       "      <td>5.105</td>\n",
       "      <td>2.941</td>\n",
       "      <td>2.201</td>\n",
       "      <td>5.056</td>\n",
       "      <td>3</td>\n",
       "    </tr>\n",
       "    <tr>\n",
       "      <th>193</th>\n",
       "      <td>10.82</td>\n",
       "      <td>12.83</td>\n",
       "      <td>0.8256</td>\n",
       "      <td>5.180</td>\n",
       "      <td>2.630</td>\n",
       "      <td>4.853</td>\n",
       "      <td>5.089</td>\n",
       "      <td>3</td>\n",
       "    </tr>\n",
       "    <tr>\n",
       "      <th>45</th>\n",
       "      <td>13.80</td>\n",
       "      <td>14.04</td>\n",
       "      <td>0.8794</td>\n",
       "      <td>5.376</td>\n",
       "      <td>3.155</td>\n",
       "      <td>1.560</td>\n",
       "      <td>4.961</td>\n",
       "      <td>1</td>\n",
       "    </tr>\n",
       "    <tr>\n",
       "      <th>157</th>\n",
       "      <td>12.13</td>\n",
       "      <td>13.73</td>\n",
       "      <td>0.8081</td>\n",
       "      <td>5.394</td>\n",
       "      <td>2.745</td>\n",
       "      <td>4.825</td>\n",
       "      <td>5.220</td>\n",
       "      <td>3</td>\n",
       "    </tr>\n",
       "    <tr>\n",
       "      <th>182</th>\n",
       "      <td>12.19</td>\n",
       "      <td>13.36</td>\n",
       "      <td>0.8579</td>\n",
       "      <td>5.240</td>\n",
       "      <td>2.909</td>\n",
       "      <td>4.857</td>\n",
       "      <td>5.158</td>\n",
       "      <td>3</td>\n",
       "    </tr>\n",
       "    <tr>\n",
       "      <th>88</th>\n",
       "      <td>21.18</td>\n",
       "      <td>17.21</td>\n",
       "      <td>0.8989</td>\n",
       "      <td>6.573</td>\n",
       "      <td>4.033</td>\n",
       "      <td>5.780</td>\n",
       "      <td>6.231</td>\n",
       "      <td>2</td>\n",
       "    </tr>\n",
       "    <tr>\n",
       "      <th>168</th>\n",
       "      <td>11.35</td>\n",
       "      <td>13.12</td>\n",
       "      <td>0.8291</td>\n",
       "      <td>5.176</td>\n",
       "      <td>2.668</td>\n",
       "      <td>4.337</td>\n",
       "      <td>5.132</td>\n",
       "      <td>3</td>\n",
       "    </tr>\n",
       "    <tr>\n",
       "      <th>155</th>\n",
       "      <td>11.19</td>\n",
       "      <td>13.05</td>\n",
       "      <td>0.8253</td>\n",
       "      <td>5.250</td>\n",
       "      <td>2.675</td>\n",
       "      <td>5.813</td>\n",
       "      <td>5.219</td>\n",
       "      <td>3</td>\n",
       "    </tr>\n",
       "    <tr>\n",
       "      <th>50</th>\n",
       "      <td>14.43</td>\n",
       "      <td>14.40</td>\n",
       "      <td>0.8751</td>\n",
       "      <td>5.585</td>\n",
       "      <td>3.272</td>\n",
       "      <td>3.975</td>\n",
       "      <td>5.144</td>\n",
       "      <td>1</td>\n",
       "    </tr>\n",
       "    <tr>\n",
       "      <th>67</th>\n",
       "      <td>14.01</td>\n",
       "      <td>14.29</td>\n",
       "      <td>0.8625</td>\n",
       "      <td>5.609</td>\n",
       "      <td>3.158</td>\n",
       "      <td>2.217</td>\n",
       "      <td>5.132</td>\n",
       "      <td>1</td>\n",
       "    </tr>\n",
       "    <tr>\n",
       "      <th>76</th>\n",
       "      <td>17.32</td>\n",
       "      <td>15.91</td>\n",
       "      <td>0.8599</td>\n",
       "      <td>6.064</td>\n",
       "      <td>3.403</td>\n",
       "      <td>3.824</td>\n",
       "      <td>5.922</td>\n",
       "      <td>2</td>\n",
       "    </tr>\n",
       "    <tr>\n",
       "      <th>147</th>\n",
       "      <td>12.49</td>\n",
       "      <td>13.46</td>\n",
       "      <td>0.8658</td>\n",
       "      <td>5.267</td>\n",
       "      <td>2.967</td>\n",
       "      <td>4.421</td>\n",
       "      <td>5.002</td>\n",
       "      <td>3</td>\n",
       "    </tr>\n",
       "    <tr>\n",
       "      <th>23</th>\n",
       "      <td>12.08</td>\n",
       "      <td>13.23</td>\n",
       "      <td>0.8664</td>\n",
       "      <td>5.099</td>\n",
       "      <td>2.936</td>\n",
       "      <td>1.415</td>\n",
       "      <td>4.961</td>\n",
       "      <td>1</td>\n",
       "    </tr>\n",
       "  </tbody>\n",
       "</table>\n",
       "</div>"
      ],
      "text/plain": [
       "      area  perimeter  compactness  kernel_len  kernel_width  asym_coeff  \\\n",
       "83   19.57      16.74       0.8779       6.384         3.772       1.472   \n",
       "159  11.49      13.22       0.8263       5.304         2.695       5.388   \n",
       "37   17.08      15.38       0.9079       5.832         3.683       2.956   \n",
       "199  12.76      13.38       0.8964       5.073         3.155       2.828   \n",
       "69   12.73      13.75       0.8458       5.412         2.882       3.533   \n",
       "90   20.10      16.99       0.8746       6.581         3.785       1.955   \n",
       "119  20.03      16.90       0.8811       6.493         3.857       3.063   \n",
       "165  12.10      13.15       0.8793       5.105         2.941       2.201   \n",
       "193  10.82      12.83       0.8256       5.180         2.630       4.853   \n",
       "45   13.80      14.04       0.8794       5.376         3.155       1.560   \n",
       "157  12.13      13.73       0.8081       5.394         2.745       4.825   \n",
       "182  12.19      13.36       0.8579       5.240         2.909       4.857   \n",
       "88   21.18      17.21       0.8989       6.573         4.033       5.780   \n",
       "168  11.35      13.12       0.8291       5.176         2.668       4.337   \n",
       "155  11.19      13.05       0.8253       5.250         2.675       5.813   \n",
       "50   14.43      14.40       0.8751       5.585         3.272       3.975   \n",
       "67   14.01      14.29       0.8625       5.609         3.158       2.217   \n",
       "76   17.32      15.91       0.8599       6.064         3.403       3.824   \n",
       "147  12.49      13.46       0.8658       5.267         2.967       4.421   \n",
       "23   12.08      13.23       0.8664       5.099         2.936       1.415   \n",
       "\n",
       "     kernel_groove  type  \n",
       "83           6.273     2  \n",
       "159          5.310     3  \n",
       "37           5.484     1  \n",
       "199          4.830     3  \n",
       "69           5.067     1  \n",
       "90           6.449     2  \n",
       "119          6.320     2  \n",
       "165          5.056     3  \n",
       "193          5.089     3  \n",
       "45           4.961     1  \n",
       "157          5.220     3  \n",
       "182          5.158     3  \n",
       "88           6.231     2  \n",
       "168          5.132     3  \n",
       "155          5.219     3  \n",
       "50           5.144     1  \n",
       "67           5.132     1  \n",
       "76           5.922     2  \n",
       "147          5.002     3  \n",
       "23           4.961     1  "
      ]
     },
     "execution_count": 75,
     "metadata": {},
     "output_type": "execute_result"
    }
   ],
   "source": [
    "whey = whey.sample(frac=1)\n",
    "whey.head(20)"
   ]
  },
  {
   "cell_type": "code",
   "execution_count": 76,
   "id": "9333b32d",
   "metadata": {},
   "outputs": [],
   "source": [
    "trainx,testx,trainy,testy = train_test_split(whey.drop('type',1),whey.type,test_size=0.3)"
   ]
  },
  {
   "cell_type": "code",
   "execution_count": 77,
   "id": "a27523a7",
   "metadata": {},
   "outputs": [
    {
     "data": {
      "text/plain": [
       "((147, 7), (147,))"
      ]
     },
     "execution_count": 77,
     "metadata": {},
     "output_type": "execute_result"
    }
   ],
   "source": [
    "trainx.shape,trainy.shape"
   ]
  },
  {
   "cell_type": "code",
   "execution_count": 78,
   "id": "58ad7845",
   "metadata": {},
   "outputs": [
    {
     "data": {
      "text/plain": [
       "((63, 7), (63,))"
      ]
     },
     "execution_count": 78,
     "metadata": {},
     "output_type": "execute_result"
    }
   ],
   "source": [
    "testx.shape,testy.shape"
   ]
  },
  {
   "cell_type": "code",
   "execution_count": 79,
   "id": "152276de",
   "metadata": {},
   "outputs": [
    {
     "name": "stdout",
     "output_type": "stream",
     "text": [
      "[ 3  5  7  9 11]\n"
     ]
    }
   ],
   "source": [
    "n_list = np.arange(3,12,2)\n",
    "print(n_list)"
   ]
  },
  {
   "cell_type": "code",
   "execution_count": 91,
   "id": "2ca9f5ec",
   "metadata": {},
   "outputs": [],
   "source": [
    "cv_acc1 = []\n",
    "for k in n_list:\n",
    "    model1 = neighbors.KNeighborsClassifier(n_neighbors=k,metric='manhattan')\n",
    "    acc1 = cross_val_score(model1,trainx,trainy,cv=5,scoring='accuracy')\n",
    "    acc1 = np.round(np.mean(acc1),3)\n",
    "    cv_acc1.append(acc1)"
   ]
  },
  {
   "cell_type": "code",
   "execution_count": 92,
   "id": "1579eac1",
   "metadata": {},
   "outputs": [
    {
     "data": {
      "text/plain": [
       "0.897"
      ]
     },
     "execution_count": 92,
     "metadata": {},
     "output_type": "execute_result"
    }
   ],
   "source": [
    "max(cv_acc1)"
   ]
  },
  {
   "cell_type": "code",
   "execution_count": 93,
   "id": "9fd6637f",
   "metadata": {},
   "outputs": [],
   "source": [
    "optk1 = n_list[(cv_acc1.index(max(cv_acc1)))]"
   ]
  },
  {
   "cell_type": "code",
   "execution_count": 94,
   "id": "0afaea75",
   "metadata": {},
   "outputs": [
    {
     "name": "stdout",
     "output_type": "stream",
     "text": [
      "best k 3\n"
     ]
    }
   ],
   "source": [
    "print(\"best k\",optk1)"
   ]
  },
  {
   "cell_type": "code",
   "execution_count": 95,
   "id": "656f2c04",
   "metadata": {},
   "outputs": [
    {
     "data": {
      "text/plain": [
       "Text(0.5, 1.0, 'Selection of optimal k for KNN')"
      ]
     },
     "execution_count": 95,
     "metadata": {},
     "output_type": "execute_result"
    },
    {
     "data": {
      "image/png": "[encoded data removed]",
      "text/plain": [
       "<Figure size 432x288 with 1 Axes>"
      ]
     },
     "metadata": {
      "needs_background": "light"
     },
     "output_type": "display_data"
    }
   ],
   "source": [
    "plt.plot(n_list,cv_acc1,color='red')\n",
    "plt.xlabel('Neighbours')\n",
    "plt.ylabel('Accuracy')\n",
    "plt.title('Selection of optimal k for KNN')"
   ]
  },
  {
   "cell_type": "code",
   "execution_count": 105,
   "id": "8e6b2406",
   "metadata": {},
   "outputs": [],
   "source": [
    "m2 = neighbors.KNeighborsClassifier(n_neighbors=optk1,metric='euclidean').fit(trainx,trainy)"
   ]
  },
  {
   "cell_type": "code",
   "execution_count": 106,
   "id": "cff5a349",
   "metadata": {},
   "outputs": [],
   "source": [
    "p2 = m2.predict(testx)"
   ]
  },
  {
   "cell_type": "code",
   "execution_count": 107,
   "id": "f2cd979c",
   "metadata": {},
   "outputs": [
    {
     "name": "stdout",
     "output_type": "stream",
     "text": [
      "Accuracy 0.9365079365079365\n"
     ]
    }
   ],
   "source": [
    "print('Accuracy', accuracy_score(testy,p2))"
   ]
  },
  {
   "cell_type": "code",
   "execution_count": 89,
   "id": "8440d6d1",
   "metadata": {},
   "outputs": [
    {
     "name": "stdout",
     "output_type": "stream",
     "text": [
      "Help on class KNeighborsClassifier in module sklearn.neighbors._classification:\n",
      "\n",
      "class KNeighborsClassifier(sklearn.neighbors._base.KNeighborsMixin, sklearn.base.ClassifierMixin, sklearn.neighbors._base.NeighborsBase)\n",
      " |  KNeighborsClassifier(n_neighbors=5, *, weights='uniform', algorithm='auto', leaf_size=30, p=2, metric='minkowski', metric_params=None, n_jobs=None, **kwargs)\n",
      " |  \n",
      " |  Classifier implementing the k-nearest neighbors vote.\n",
      " |  \n",
      " |  Read more in the :ref:`User Guide <classification>`.\n",
      " |  \n",
      " |  Parameters\n",
      " |  ----------\n",
      " |  n_neighbors : int, default=5\n",
      " |      Number of neighbors to use by default for :meth:`kneighbors` queries.\n",
      " |  \n",
      " |  weights : {'uniform', 'distance'} or callable, default='uniform'\n",
      " |      weight function used in prediction.  Possible values:\n",
      " |  \n",
      " |      - 'uniform' : uniform weights.  All points in each neighborhood\n",
      " |        are weighted equally.\n",
      " |      - 'distance' : weight points by the inverse of their distance.\n",
      " |        in this case, closer neighbors of a query point will have a\n",
      " |        greater influence than neighbors which are further away.\n",
      " |      - [callable] : a user-defined function which accepts an\n",
      " |        array of distances, and returns an array of the same shape\n",
      " |        containing the weights.\n",
      " |  \n",
      " |  algorithm : {'auto', 'ball_tree', 'kd_tree', 'brute'}, default='auto'\n",
      " |      Algorithm used to compute the nearest neighbors:\n",
      " |  \n",
      " |      - 'ball_tree' will use :class:`BallTree`\n",
      " |      - 'kd_tree' will use :class:`KDTree`\n",
      " |      - 'brute' will use a brute-force search.\n",
      " |      - 'auto' will attempt to decide the most appropriate algorithm\n",
      " |        based on the values passed to :meth:`fit` method.\n",
      " |  \n",
      " |      Note: fitting on sparse input will override the setting of\n",
      " |      this parameter, using brute force.\n",
      " |  \n",
      " |  leaf_size : int, default=30\n",
      " |      Leaf size passed to BallTree or KDTree.  This can affect the\n",
      " |      speed of the construction and query, as well as the memory\n",
      " |      required to store the tree.  The optimal value depends on the\n",
      " |      nature of the problem.\n",
      " |  \n",
      " |  p : int, default=2\n",
      " |      Power parameter for the Minkowski metric. When p = 1, this is\n",
      " |      equivalent to using manhattan_distance (l1), and euclidean_distance\n",
      " |      (l2) for p = 2. For arbitrary p, minkowski_distance (l_p) is used.\n",
      " |  \n",
      " |  metric : str or callable, default='minkowski'\n",
      " |      the distance metric to use for the tree.  The default metric is\n",
      " |      minkowski, and with p=2 is equivalent to the standard Euclidean\n",
      " |      metric. See the documentation of :class:`DistanceMetric` for a\n",
      " |      list of available metrics.\n",
      " |      If metric is \"precomputed\", X is assumed to be a distance matrix and\n",
      " |      must be square during fit. X may be a :term:`sparse graph`,\n",
      " |      in which case only \"nonzero\" elements may be considered neighbors.\n",
      " |  \n",
      " |  metric_params : dict, default=None\n",
      " |      Additional keyword arguments for the metric function.\n",
      " |  \n",
      " |  n_jobs : int, default=None\n",
      " |      The number of parallel jobs to run for neighbors search.\n",
      " |      ``None`` means 1 unless in a :obj:`joblib.parallel_backend` context.\n",
      " |      ``-1`` means using all processors. See :term:`Glossary <n_jobs>`\n",
      " |      for more details.\n",
      " |      Doesn't affect :meth:`fit` method.\n",
      " |  \n",
      " |  Attributes\n",
      " |  ----------\n",
      " |  classes_ : array of shape (n_classes,)\n",
      " |      Class labels known to the classifier\n",
      " |  \n",
      " |  effective_metric_ : str or callble\n",
      " |      The distance metric used. It will be same as the `metric` parameter\n",
      " |      or a synonym of it, e.g. 'euclidean' if the `metric` parameter set to\n",
      " |      'minkowski' and `p` parameter set to 2.\n",
      " |  \n",
      " |  effective_metric_params_ : dict\n",
      " |      Additional keyword arguments for the metric function. For most metrics\n",
      " |      will be same with `metric_params` parameter, but may also contain the\n",
      " |      `p` parameter value if the `effective_metric_` attribute is set to\n",
      " |      'minkowski'.\n",
      " |  \n",
      " |  n_samples_fit_ : int\n",
      " |      Number of samples in the fitted data.\n",
      " |  \n",
      " |  outputs_2d_ : bool\n",
      " |      False when `y`'s shape is (n_samples, ) or (n_samples, 1) during fit\n",
      " |      otherwise True.\n",
      " |  \n",
      " |  Examples\n",
      " |  --------\n",
      " |  >>> X = [[0], [1], [2], [3]]\n",
      " |  >>> y = [0, 0, 1, 1]\n",
      " |  >>> from sklearn.neighbors import KNeighborsClassifier\n",
      " |  >>> neigh = KNeighborsClassifier(n_neighbors=3)\n",
      " |  >>> neigh.fit(X, y)\n",
      " |  KNeighborsClassifier(...)\n",
      " |  >>> print(neigh.predict([[1.1]]))\n",
      " |  [0]\n",
      " |  >>> print(neigh.predict_proba([[0.9]]))\n",
      " |  [[0.66666667 0.33333333]]\n",
      " |  \n",
      " |  See Also\n",
      " |  --------\n",
      " |  RadiusNeighborsClassifier\n",
      " |  KNeighborsRegressor\n",
      " |  RadiusNeighborsRegressor\n",
      " |  NearestNeighbors\n",
      " |  \n",
      " |  Notes\n",
      " |  -----\n",
      " |  See :ref:`Nearest Neighbors <neighbors>` in the online documentation\n",
      " |  for a discussion of the choice of ``algorithm`` and ``leaf_size``.\n",
      " |  \n",
      " |  .. warning::\n",
      " |  \n",
      " |     Regarding the Nearest Neighbors algorithms, if it is found that two\n",
      " |     neighbors, neighbor `k+1` and `k`, have identical distances\n",
      " |     but different labels, the results will depend on the ordering of the\n",
      " |     training data.\n",
      " |  \n",
      " |  https://en.wikipedia.org/wiki/K-nearest_neighbor_algorithm\n",
      " |  \n",
      " |  Method resolution order:\n",
      " |      KNeighborsClassifier\n",
      " |      sklearn.neighbors._base.KNeighborsMixin\n",
      " |      sklearn.base.ClassifierMixin\n",
      " |      sklearn.neighbors._base.NeighborsBase\n",
      " |      sklearn.base.MultiOutputMixin\n",
      " |      sklearn.base.BaseEstimator\n",
      " |      builtins.object\n",
      " |  \n",
      " |  Methods defined here:\n",
      " |  \n",
      " |  __init__(self, n_neighbors=5, *, weights='uniform', algorithm='auto', leaf_size=30, p=2, metric='minkowski', metric_params=None, n_jobs=None, **kwargs)\n",
      " |      Initialize self.  See help(type(self)) for accurate signature.\n",
      " |  \n",
      " |  fit(self, X, y)\n",
      " |      Fit the k-nearest neighbors classifier from the training dataset.\n",
      " |      \n",
      " |      Parameters\n",
      " |      ----------\n",
      " |      X : {array-like, sparse matrix} of shape (n_samples, n_features) or                 (n_samples, n_samples) if metric='precomputed'\n",
      " |          Training data.\n",
      " |      \n",
      " |      y : {array-like, sparse matrix} of shape (n_samples,) or                 (n_samples, n_outputs)\n",
      " |          Target values.\n",
      " |      \n",
      " |      Returns\n",
      " |      -------\n",
      " |      self : KNeighborsClassifier\n",
      " |          The fitted k-nearest neighbors classifier.\n",
      " |  \n",
      " |  predict(self, X)\n",
      " |      Predict the class labels for the provided data.\n",
      " |      \n",
      " |      Parameters\n",
      " |      ----------\n",
      " |      X : array-like of shape (n_queries, n_features),                 or (n_queries, n_indexed) if metric == 'precomputed'\n",
      " |          Test samples.\n",
      " |      \n",
      " |      Returns\n",
      " |      -------\n",
      " |      y : ndarray of shape (n_queries,) or (n_queries, n_outputs)\n",
      " |          Class labels for each data sample.\n",
      " |  \n",
      " |  predict_proba(self, X)\n",
      " |      Return probability estimates for the test data X.\n",
      " |      \n",
      " |      Parameters\n",
      " |      ----------\n",
      " |      X : array-like of shape (n_queries, n_features),                 or (n_queries, n_indexed) if metric == 'precomputed'\n",
      " |          Test samples.\n",
      " |      \n",
      " |      Returns\n",
      " |      -------\n",
      " |      p : ndarray of shape (n_queries, n_classes), or a list of n_outputs\n",
      " |          of such arrays if n_outputs > 1.\n",
      " |          The class probabilities of the input samples. Classes are ordered\n",
      " |          by lexicographic order.\n",
      " |  \n",
      " |  ----------------------------------------------------------------------\n",
      " |  Data and other attributes defined here:\n",
      " |  \n",
      " |  __abstractmethods__ = frozenset()\n",
      " |  \n",
      " |  ----------------------------------------------------------------------\n",
      " |  Methods inherited from sklearn.neighbors._base.KNeighborsMixin:\n",
      " |  \n",
      " |  kneighbors(self, X=None, n_neighbors=None, return_distance=True)\n",
      " |      Finds the K-neighbors of a point.\n",
      " |      \n",
      " |      Returns indices of and distances to the neighbors of each point.\n",
      " |      \n",
      " |      Parameters\n",
      " |      ----------\n",
      " |      X : array-like, shape (n_queries, n_features),             or (n_queries, n_indexed) if metric == 'precomputed',                 default=None\n",
      " |          The query point or points.\n",
      " |          If not provided, neighbors of each indexed point are returned.\n",
      " |          In this case, the query point is not considered its own neighbor.\n",
      " |      \n",
      " |      n_neighbors : int, default=None\n",
      " |          Number of neighbors required for each sample. The default is the\n",
      " |          value passed to the constructor.\n",
      " |      \n",
      " |      return_distance : bool, default=True\n",
      " |          Whether or not to return the distances.\n",
      " |      \n",
      " |      Returns\n",
      " |      -------\n",
      " |      neigh_dist : ndarray of shape (n_queries, n_neighbors)\n",
      " |          Array representing the lengths to points, only present if\n",
      " |          return_distance=True\n",
      " |      \n",
      " |      neigh_ind : ndarray of shape (n_queries, n_neighbors)\n",
      " |          Indices of the nearest points in the population matrix.\n",
      " |      \n",
      " |      Examples\n",
      " |      --------\n",
      " |      In the following example, we construct a NearestNeighbors\n",
      " |      class from an array representing our data set and ask who's\n",
      " |      the closest point to [1,1,1]\n",
      " |      \n",
      " |      >>> samples = [[0., 0., 0.], [0., .5, 0.], [1., 1., .5]]\n",
      " |      >>> from sklearn.neighbors import NearestNeighbors\n",
      " |      >>> neigh = NearestNeighbors(n_neighbors=1)\n",
      " |      >>> neigh.fit(samples)\n",
      " |      NearestNeighbors(n_neighbors=1)\n",
      " |      >>> print(neigh.kneighbors([[1., 1., 1.]]))\n",
      " |      (array([[0.5]]), array([[2]]))\n",
      " |      \n",
      " |      As you can see, it returns [[0.5]], and [[2]], which means that the\n",
      " |      element is at distance 0.5 and is the third element of samples\n",
      " |      (indexes start at 0). You can also query for multiple points:\n",
      " |      \n",
      " |      >>> X = [[0., 1., 0.], [1., 0., 1.]]\n",
      " |      >>> neigh.kneighbors(X, return_distance=False)\n",
      " |      array([[1],\n",
      " |             [2]]...)\n",
      " |  \n",
      " |  kneighbors_graph(self, X=None, n_neighbors=None, mode='connectivity')\n",
      " |      Computes the (weighted) graph of k-Neighbors for points in X\n",
      " |      \n",
      " |      Parameters\n",
      " |      ----------\n",
      " |      X : array-like of shape (n_queries, n_features),                 or (n_queries, n_indexed) if metric == 'precomputed',                 default=None\n",
      " |          The query point or points.\n",
      " |          If not provided, neighbors of each indexed point are returned.\n",
      " |          In this case, the query point is not considered its own neighbor.\n",
      " |          For ``metric='precomputed'`` the shape should be\n",
      " |          (n_queries, n_indexed). Otherwise the shape should be\n",
      " |          (n_queries, n_features).\n",
      " |      \n",
      " |      n_neighbors : int, default=None\n",
      " |          Number of neighbors for each sample. The default is the value\n",
      " |          passed to the constructor.\n",
      " |      \n",
      " |      mode : {'connectivity', 'distance'}, default='connectivity'\n",
      " |          Type of returned matrix: 'connectivity' will return the\n",
      " |          connectivity matrix with ones and zeros, in 'distance' the\n",
      " |          edges are Euclidean distance between points.\n",
      " |      \n",
      " |      Returns\n",
      " |      -------\n",
      " |      A : sparse-matrix of shape (n_queries, n_samples_fit)\n",
      " |          `n_samples_fit` is the number of samples in the fitted data\n",
      " |          `A[i, j]` is assigned the weight of edge that connects `i` to `j`.\n",
      " |          The matrix is of CSR format.\n",
      " |      \n",
      " |      Examples\n",
      " |      --------\n",
      " |      >>> X = [[0], [3], [1]]\n",
      " |      >>> from sklearn.neighbors import NearestNeighbors\n",
      " |      >>> neigh = NearestNeighbors(n_neighbors=2)\n",
      " |      >>> neigh.fit(X)\n",
      " |      NearestNeighbors(n_neighbors=2)\n",
      " |      >>> A = neigh.kneighbors_graph(X)\n",
      " |      >>> A.toarray()\n",
      " |      array([[1., 0., 1.],\n",
      " |             [0., 1., 1.],\n",
      " |             [1., 0., 1.]])\n",
      " |      \n",
      " |      See Also\n",
      " |      --------\n",
      " |      NearestNeighbors.radius_neighbors_graph\n",
      " |  \n",
      " |  ----------------------------------------------------------------------\n",
      " |  Data descriptors inherited from sklearn.neighbors._base.KNeighborsMixin:\n",
      " |  \n",
      " |  __dict__\n",
      " |      dictionary for instance variables (if defined)\n",
      " |  \n",
      " |  __weakref__\n",
      " |      list of weak references to the object (if defined)\n",
      " |  \n",
      " |  ----------------------------------------------------------------------\n",
      " |  Methods inherited from sklearn.base.ClassifierMixin:\n",
      " |  \n",
      " |  score(self, X, y, sample_weight=None)\n",
      " |      Return the mean accuracy on the given test data and labels.\n",
      " |      \n",
      " |      In multi-label classification, this is the subset accuracy\n",
      " |      which is a harsh metric since you require for each sample that\n",
      " |      each label set be correctly predicted.\n",
      " |      \n",
      " |      Parameters\n",
      " |      ----------\n",
      " |      X : array-like of shape (n_samples, n_features)\n",
      " |          Test samples.\n",
      " |      \n",
      " |      y : array-like of shape (n_samples,) or (n_samples, n_outputs)\n",
      " |          True labels for `X`.\n",
      " |      \n",
      " |      sample_weight : array-like of shape (n_samples,), default=None\n",
      " |          Sample weights.\n",
      " |      \n",
      " |      Returns\n",
      " |      -------\n",
      " |      score : float\n",
      " |          Mean accuracy of ``self.predict(X)`` wrt. `y`.\n",
      " |  \n",
      " |  ----------------------------------------------------------------------\n",
      " |  Methods inherited from sklearn.base.BaseEstimator:\n",
      " |  \n",
      " |  __getstate__(self)\n",
      " |  \n",
      " |  __repr__(self, N_CHAR_MAX=700)\n",
      " |      Return repr(self).\n",
      " |  \n",
      " |  __setstate__(self, state)\n",
      " |  \n",
      " |  get_params(self, deep=True)\n",
      " |      Get parameters for this estimator.\n",
      " |      \n",
      " |      Parameters\n",
      " |      ----------\n",
      " |      deep : bool, default=True\n",
      " |          If True, will return the parameters for this estimator and\n",
      " |          contained subobjects that are estimators.\n",
      " |      \n",
      " |      Returns\n",
      " |      -------\n",
      " |      params : dict\n",
      " |          Parameter names mapped to their values.\n",
      " |  \n",
      " |  set_params(self, **params)\n",
      " |      Set the parameters of this estimator.\n",
      " |      \n",
      " |      The method works on simple estimators as well as on nested objects\n",
      " |      (such as :class:`~sklearn.pipeline.Pipeline`). The latter have\n",
      " |      parameters of the form ``<component>__<parameter>`` so that it's\n",
      " |      possible to update each component of a nested object.\n",
      " |      \n",
      " |      Parameters\n",
      " |      ----------\n",
      " |      **params : dict\n",
      " |          Estimator parameters.\n",
      " |      \n",
      " |      Returns\n",
      " |      -------\n",
      " |      self : estimator instance\n",
      " |          Estimator instance.\n",
      "\n"
     ]
    }
   ],
   "source": [
    "help(neighbors.KNeighborsClassifier)"
   ]
  },
  {
   "cell_type": "code",
   "execution_count": null,
   "id": "4791b219",
   "metadata": {},
   "outputs": [],
   "source": []
  }
 ],
 "metadata": {
  "kernelspec": {
   "display_name": "Python 3",
   "language": "python",
   "name": "python3"
  },
  "language_info": {
   "codemirror_mode": {
    "name": "ipython",
    "version": 3
   },
   "file_extension": ".py",
   "mimetype": "text/x-python",
   "name": "python",
   "nbconvert_exporter": "python",
   "pygments_lexer": "ipython3",
   "version": "3.8.8"
  }
 },
 "nbformat": 4,
 "nbformat_minor": 5
}
